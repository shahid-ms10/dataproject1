{
 "cells": [
  {
   "cell_type": "code",
   "execution_count": 17,
   "id": "5c431f0e",
   "metadata": {},
   "outputs": [
    {
     "name": "stdout",
     "output_type": "stream",
     "text": [
      "Please enter the marks (0-100): 20\n"
     ]
    },
    {
     "ename": "SyntaxError",
     "evalue": "'break' outside loop (756245262.py, line 8)",
     "output_type": "error",
     "traceback": [
      "\u001b[1;36m  Cell \u001b[1;32mIn[17], line 8\u001b[1;36m\u001b[0m\n\u001b[1;33m    break\u001b[0m\n\u001b[1;37m    ^\u001b[0m\n\u001b[1;31mSyntaxError\u001b[0m\u001b[1;31m:\u001b[0m 'break' outside loop\n"
     ]
    }
   ],
   "source": [
    "marks = float(input(\"Please enter the marks (0-100): \"))\n",
    "while True:\n",
    "    if 0 <= marks <= 100:\n",
    "        if marks >= 50:\n",
    "            result = \"Pass\"\n",
    "        else:\n",
    "            result = \"Fail\"\n",
    "        print(f\"You {result}.\")\n",
    "    break\n",
    "    else:\n",
    "        print(\"Marks must be between 0 and 100.\")"
   ]
  },
  {
   "cell_type": "code",
   "execution_count": null,
   "id": "aeb3fd1f",
   "metadata": {},
   "outputs": [],
   "source": []
  }
 ],
 "metadata": {
  "kernelspec": {
   "display_name": "Python 3 (ipykernel)",
   "language": "python",
   "name": "python3"
  },
  "language_info": {
   "codemirror_mode": {
    "name": "ipython",
    "version": 3
   },
   "file_extension": ".py",
   "mimetype": "text/x-python",
   "name": "python",
   "nbconvert_exporter": "python",
   "pygments_lexer": "ipython3",
   "version": "3.10.7"
  }
 },
 "nbformat": 4,
 "nbformat_minor": 5
}
