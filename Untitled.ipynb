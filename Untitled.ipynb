{
 "cells": [
  {
   "cell_type": "code",
   "execution_count": 1,
   "id": "8d634cdd",
   "metadata": {},
   "outputs": [],
   "source": [
    "import pandas as pd"
   ]
  },
  {
   "cell_type": "code",
   "execution_count": 2,
   "id": "49bdda23",
   "metadata": {},
   "outputs": [],
   "source": [
    "df = pd.read_csv('Udemy.csv')"
   ]
  },
  {
   "cell_type": "code",
   "execution_count": 3,
   "id": "eafe3f48",
   "metadata": {},
   "outputs": [
    {
     "data": {
      "text/html": [
       "<div>\n",
       "<style scoped>\n",
       "    .dataframe tbody tr th:only-of-type {\n",
       "        vertical-align: middle;\n",
       "    }\n",
       "\n",
       "    .dataframe tbody tr th {\n",
       "        vertical-align: top;\n",
       "    }\n",
       "\n",
       "    .dataframe thead th {\n",
       "        text-align: right;\n",
       "    }\n",
       "</style>\n",
       "<table border=\"1\" class=\"dataframe\">\n",
       "  <thead>\n",
       "    <tr style=\"text-align: right;\">\n",
       "      <th></th>\n",
       "      <th>Name</th>\n",
       "      <th>Title</th>\n",
       "      <th>Status</th>\n",
       "    </tr>\n",
       "  </thead>\n",
       "  <tbody>\n",
       "    <tr>\n",
       "      <th>0</th>\n",
       "      <td>Abdutayyeb Rampurawala</td>\n",
       "      <td>[NEW] Ultimate AWS Certified Cloud Practitione...</td>\n",
       "      <td>45</td>\n",
       "    </tr>\n",
       "    <tr>\n",
       "      <th>1</th>\n",
       "      <td>NaN</td>\n",
       "      <td>Analytics Engineering Bootcamp</td>\n",
       "      <td>100</td>\n",
       "    </tr>\n",
       "    <tr>\n",
       "      <th>2</th>\n",
       "      <td>NaN</td>\n",
       "      <td>Apache Kafka Series - Learn Apache Kafka for B...</td>\n",
       "      <td>35</td>\n",
       "    </tr>\n",
       "    <tr>\n",
       "      <th>3</th>\n",
       "      <td>NaN</td>\n",
       "      <td>Automate the Boring Stuff with Python Programming</td>\n",
       "      <td>100</td>\n",
       "    </tr>\n",
       "    <tr>\n",
       "      <th>4</th>\n",
       "      <td>NaN</td>\n",
       "      <td>AWS Amazon S3 Mastery Bootcamp</td>\n",
       "      <td>100</td>\n",
       "    </tr>\n",
       "  </tbody>\n",
       "</table>\n",
       "</div>"
      ],
      "text/plain": [
       "                     Name                                              Title  \\\n",
       "0  Abdutayyeb Rampurawala  [NEW] Ultimate AWS Certified Cloud Practitione...   \n",
       "1                     NaN                     Analytics Engineering Bootcamp   \n",
       "2                     NaN  Apache Kafka Series - Learn Apache Kafka for B...   \n",
       "3                     NaN  Automate the Boring Stuff with Python Programming   \n",
       "4                     NaN                     AWS Amazon S3 Mastery Bootcamp   \n",
       "\n",
       "   Status  \n",
       "0      45  \n",
       "1     100  \n",
       "2      35  \n",
       "3     100  \n",
       "4     100  "
      ]
     },
     "execution_count": 3,
     "metadata": {},
     "output_type": "execute_result"
    }
   ],
   "source": [
    "df.head()"
   ]
  },
  {
   "cell_type": "code",
   "execution_count": 4,
   "id": "4e9ff655",
   "metadata": {},
   "outputs": [
    {
     "data": {
      "text/html": [
       "<div>\n",
       "<style scoped>\n",
       "    .dataframe tbody tr th:only-of-type {\n",
       "        vertical-align: middle;\n",
       "    }\n",
       "\n",
       "    .dataframe tbody tr th {\n",
       "        vertical-align: top;\n",
       "    }\n",
       "\n",
       "    .dataframe thead th {\n",
       "        text-align: right;\n",
       "    }\n",
       "</style>\n",
       "<table border=\"1\" class=\"dataframe\">\n",
       "  <thead>\n",
       "    <tr style=\"text-align: right;\">\n",
       "      <th></th>\n",
       "      <th>Name</th>\n",
       "      <th>Title</th>\n",
       "      <th>Status</th>\n",
       "    </tr>\n",
       "  </thead>\n",
       "  <tbody>\n",
       "    <tr>\n",
       "      <th>1679</th>\n",
       "      <td>NaN</td>\n",
       "      <td>The Python Bible™ | Everything You Need to Pro...</td>\n",
       "      <td>100</td>\n",
       "    </tr>\n",
       "    <tr>\n",
       "      <th>1680</th>\n",
       "      <td>NaN</td>\n",
       "      <td>The Ultimate Hands-On Hadoop: Tame your Big Data!</td>\n",
       "      <td>100</td>\n",
       "    </tr>\n",
       "    <tr>\n",
       "      <th>1681</th>\n",
       "      <td>NaN</td>\n",
       "      <td>Using MySQL Databases With Python</td>\n",
       "      <td>100</td>\n",
       "    </tr>\n",
       "    <tr>\n",
       "      <th>1682</th>\n",
       "      <td>Vinod R C Total</td>\n",
       "      <td>NaN</td>\n",
       "      <td>4447</td>\n",
       "    </tr>\n",
       "    <tr>\n",
       "      <th>1683</th>\n",
       "      <td>Grand Total</td>\n",
       "      <td>NaN</td>\n",
       "      <td>130031</td>\n",
       "    </tr>\n",
       "  </tbody>\n",
       "</table>\n",
       "</div>"
      ],
      "text/plain": [
       "                 Name                                              Title  \\\n",
       "1679              NaN  The Python Bible™ | Everything You Need to Pro...   \n",
       "1680              NaN  The Ultimate Hands-On Hadoop: Tame your Big Data!   \n",
       "1681              NaN                  Using MySQL Databases With Python   \n",
       "1682  Vinod R C Total                                                NaN   \n",
       "1683      Grand Total                                                NaN   \n",
       "\n",
       "      Status  \n",
       "1679     100  \n",
       "1680     100  \n",
       "1681     100  \n",
       "1682    4447  \n",
       "1683  130031  "
      ]
     },
     "execution_count": 4,
     "metadata": {},
     "output_type": "execute_result"
    }
   ],
   "source": [
    "df.tail()"
   ]
  },
  {
   "cell_type": "code",
   "execution_count": 8,
   "id": "1d988bb5",
   "metadata": {
    "scrolled": true
   },
   "outputs": [],
   "source": [
    "total_rows = df[df['Name'].str.contains('total', case=False)]"
   ]
  },
  {
   "cell_type": "code",
   "execution_count": 7,
   "id": "8d47ed89",
   "metadata": {},
   "outputs": [],
   "source": [
    "df['Name'].fillna('', inplace=True)"
   ]
  },
  {
   "cell_type": "code",
   "execution_count": 9,
   "id": "f83c0748",
   "metadata": {},
   "outputs": [
    {
     "name": "stdout",
     "output_type": "stream",
     "text": [
      "                               Name Title  Status\n",
      "62     Abdutayyeb Rampurawala Total   NaN    4937\n",
      "126            Abhishek Kumar Total   NaN    5242\n",
      "180       Adishree Solapurkar Total   NaN    4763\n",
      "242        Anand Kumar Sharma Total   NaN    5432\n",
      "285            Aryaman Mishra Total   NaN    2934\n",
      "326              Atharv Tathe Total   NaN    3459\n",
      "406         Chadaram Padmakar Total   NaN    5261\n",
      "456            Chetan Sheoran Total   NaN    3455\n",
      "522   Chinmay Harshad Vyapari Total   NaN    5217\n",
      "580      Dharshan N Renukesha Total   NaN    4830\n",
      "641              Grishma Raja Total   NaN    5168\n",
      "699     Haneefa Tasneem Shaik Total   NaN    4809\n",
      "758        Hetu Prakash Patel Total   NaN    5476\n",
      "813            Jaspreet Pannu Total   NaN    4766\n",
      "893               Kunal Singh Total   NaN    5259\n",
      "955              Mahan Khanal Total   NaN    5403\n",
      "1021          Manav Choudhary Total   NaN    4966\n",
      "1080            Medini G Bhat Total   NaN    5499\n",
      "1144            Mohini Shinde Total   NaN    5596\n",
      "1202           Prasad Gaikwad Total   NaN    4957\n",
      "1278       Prashant Kumar Roy Total   NaN    3298\n",
      "1338          Prashant Pathak Total   NaN    4982\n",
      "1403    Shahid Mansoor Shaikh Total   NaN    4677\n",
      "1452              Shubham Raj Total   NaN     509\n",
      "1510            Siddharth Das Total   NaN    4251\n",
      "1568              Smita Gupta Total   NaN    5449\n",
      "1627         Vamsi Kandimalla Total   NaN    4989\n",
      "1682                Vinod R C Total   NaN    4447\n",
      "1683                    Grand Total   NaN  130031\n"
     ]
    }
   ],
   "source": [
    "print(total_rows)"
   ]
  },
  {
   "cell_type": "code",
   "execution_count": 12,
   "id": "f5ff1f78",
   "metadata": {},
   "outputs": [],
   "source": [
    "sorted_df = total_rows.sort_values(by='Status')"
   ]
  },
  {
   "cell_type": "code",
   "execution_count": 13,
   "id": "d5a8791e",
   "metadata": {},
   "outputs": [
    {
     "name": "stdout",
     "output_type": "stream",
     "text": [
      "                               Name Title  Status\n",
      "1452              Shubham Raj Total   NaN     509\n",
      "285            Aryaman Mishra Total   NaN    2934\n",
      "1278       Prashant Kumar Roy Total   NaN    3298\n",
      "456            Chetan Sheoran Total   NaN    3455\n",
      "326              Atharv Tathe Total   NaN    3459\n",
      "1510            Siddharth Das Total   NaN    4251\n",
      "1682                Vinod R C Total   NaN    4447\n",
      "1403    Shahid Mansoor Shaikh Total   NaN    4677\n",
      "180       Adishree Solapurkar Total   NaN    4763\n",
      "813            Jaspreet Pannu Total   NaN    4766\n",
      "699     Haneefa Tasneem Shaik Total   NaN    4809\n",
      "580      Dharshan N Renukesha Total   NaN    4830\n",
      "62     Abdutayyeb Rampurawala Total   NaN    4937\n",
      "1202           Prasad Gaikwad Total   NaN    4957\n",
      "1021          Manav Choudhary Total   NaN    4966\n",
      "1338          Prashant Pathak Total   NaN    4982\n",
      "1627         Vamsi Kandimalla Total   NaN    4989\n",
      "641              Grishma Raja Total   NaN    5168\n",
      "522   Chinmay Harshad Vyapari Total   NaN    5217\n",
      "126            Abhishek Kumar Total   NaN    5242\n",
      "893               Kunal Singh Total   NaN    5259\n",
      "406         Chadaram Padmakar Total   NaN    5261\n",
      "955              Mahan Khanal Total   NaN    5403\n",
      "242        Anand Kumar Sharma Total   NaN    5432\n",
      "1568              Smita Gupta Total   NaN    5449\n",
      "758        Hetu Prakash Patel Total   NaN    5476\n",
      "1080            Medini G Bhat Total   NaN    5499\n",
      "1144            Mohini Shinde Total   NaN    5596\n",
      "1683                    Grand Total   NaN  130031\n"
     ]
    }
   ],
   "source": [
    "print(sorted_df)"
   ]
  },
  {
   "cell_type": "code",
   "execution_count": 14,
   "id": "5b5275a8",
   "metadata": {},
   "outputs": [
    {
     "data": {
      "text/plain": [
       "(29, 3)"
      ]
     },
     "execution_count": 14,
     "metadata": {},
     "output_type": "execute_result"
    }
   ],
   "source": [
    "sorted_df.shape"
   ]
  },
  {
   "cell_type": "code",
   "execution_count": 15,
   "id": "71783bb2",
   "metadata": {},
   "outputs": [],
   "source": [
    "sorted_df.to_csv('sorted_df.csv', index=False)"
   ]
  },
  {
   "cell_type": "code",
   "execution_count": 16,
   "id": "fab39488",
   "metadata": {},
   "outputs": [
    {
     "data": {
      "text/plain": [
       "(29, 3)"
      ]
     },
     "execution_count": 16,
     "metadata": {},
     "output_type": "execute_result"
    }
   ],
   "source": [
    "sorted_df.shape"
   ]
  },
  {
   "cell_type": "code",
   "execution_count": 17,
   "id": "fbc22cf8",
   "metadata": {},
   "outputs": [],
   "source": [
    "dates = pd.date_range(\"20130101\", periods=6)\n"
   ]
  },
  {
   "cell_type": "code",
   "execution_count": 18,
   "id": "f9bd59d0",
   "metadata": {},
   "outputs": [
    {
     "name": "stdout",
     "output_type": "stream",
     "text": [
      "DatetimeIndex(['2013-01-01', '2013-01-02', '2013-01-03', '2013-01-04',\n",
      "               '2013-01-05', '2013-01-06'],\n",
      "              dtype='datetime64[ns]', freq='D')\n"
     ]
    }
   ],
   "source": [
    "print(dates)"
   ]
  },
  {
   "cell_type": "code",
   "execution_count": null,
   "id": "36156323",
   "metadata": {},
   "outputs": [],
   "source": []
  }
 ],
 "metadata": {
  "kernelspec": {
   "display_name": "Python 3 (ipykernel)",
   "language": "python",
   "name": "python3"
  },
  "language_info": {
   "codemirror_mode": {
    "name": "ipython",
    "version": 3
   },
   "file_extension": ".py",
   "mimetype": "text/x-python",
   "name": "python",
   "nbconvert_exporter": "python",
   "pygments_lexer": "ipython3",
   "version": "3.10.7"
  }
 },
 "nbformat": 4,
 "nbformat_minor": 5
}
